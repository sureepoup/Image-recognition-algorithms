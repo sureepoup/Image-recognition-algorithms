{
 "cells": [
  {
   "cell_type": "code",
   "execution_count": 2,
   "metadata": {
    "collapsed": true,
    "pycharm": {
     "is_executing": false
    }
   },
   "outputs": [
    {
     "name": "stdout",
     "text": [
      "([array([ 0.32786775, -0.03539637]), array([-0.7075989 ,  0.23671434])], {0: [array([0.03202125, 0.1518529 ]), array([0.41237613, 0.13951552]), array([ 0.094889  , -0.76150993]), array([0.75819656, 0.14822815]), array([0.34185583, 0.14493149])], 1: [array([-0.8370475 , -0.22419219]), array([-0.71688904, -0.38867859]), array([-0.43112612,  0.64237007]), array([-0.71685981,  0.89182279]), array([-0.83607205,  0.26224961])]})\n"
     ],
     "output_type": "stream"
    }
   ],
   "source": [
    "import random\n",
    "\n",
    "\n",
    "def ED(source, target):\n",
    "    if source == \"\":\n",
    "        return len(target)\n",
    "    if target == \"\":\n",
    "        return len(source)\n",
    "    \n",
    "    if source[-1] == target[-1]:\n",
    "        cost = 0\n",
    "    else:\n",
    "        cost = 1\n",
    "    res = min([ED(source[:-1], target)+1,\n",
    "    ED(source, target[:-1])+1,\n",
    "    ED(source[:-1], target[:-1]) + cost])\n",
    "    return res\n",
    "\n",
    "def find_centre(x, X, mu):\n",
    "    min = 100\n",
    "    cent = 0\n",
    "    for c in mu:\n",
    "        dist = ED(x, X[c])\n",
    "    if dist< min:\n",
    "        min = dist\n",
    "        cent = c\n",
    "    return cent\n",
    "\n",
    "def cluster_arrange(X, cent):\n",
    "    clusters = {}\n",
    "    for x in X:\n",
    "        bestcent = find_centre(x, X, cent)\n",
    "    try:\n",
    "        clusters[bestcent].append(x)\n",
    "        exceptKeyError:\n",
    "        clusters[bestcent] = [x]\n",
    "    return clusters\n",
    "\n",
    "def rearrange_centers(cent, clusters):\n",
    "    newcent = []\n",
    "    keys = sorted(clusters.keys())\n",
    "    \n",
    "    for k in keys:\n",
    "        newcent.append(k)\n",
    "    return newcent\n",
    "\n",
    "def has_converged(cent, oldcent):\n",
    "    return sorted(cent) == sorted(oldcent)\n",
    "\n",
    "def locate_centers(X, K):\n",
    "    oldcent = random.sample(range(0,5), K)\n",
    "    cent = random.sample(range(0,5), K)\n",
    "    while not has_converged(cent, oldcent):\n",
    "    oldcent = cent\n",
    "    \n",
    "    # Assign all points in X to clusters\n",
    "    clusters = cluster_arrange(X, cent)\n",
    "    # Reevaluate centers\n",
    "    cent = rearrange_centers(oldcent, clusters)\n",
    "    return(cent, clusters)"
   ]
  }
 ],
 "metadata": {
  "language_info": {
   "codemirror_mode": {
    "name": "ipython",
    "version": 2
   },
   "file_extension": ".py",
   "mimetype": "text/x-python",
   "name": "python",
   "nbconvert_exporter": "python",
   "pygments_lexer": "ipython2",
   "version": "2.7.6"
  },
  "kernelspec": {
   "name": "python3",
   "language": "python",
   "display_name": "Python 3"
  },
  "pycharm": {
   "stem_cell": {
    "cell_type": "raw",
    "source": [],
    "metadata": {
     "collapsed": false
    }
   }
  }
 },
 "nbformat": 4,
 "nbformat_minor": 0
}