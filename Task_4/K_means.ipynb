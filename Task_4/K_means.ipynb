{
 "cells": [
  {
   "cell_type": "code",
   "execution_count": 2,
   "outputs": [
    {
     "data": {
      "text/plain": "<Figure size 432x288 with 1 Axes>",
      "image/png": "[encoded data removed]"
     },
     "metadata": {
      "needs_background": "light"
     },
     "output_type": "display_data"
    }
   ],
   "source": [
    "import numpy as np\n",
    "import random\n",
    "from matplotlib import pyplot as plt\n",
    " \n",
    " # красными точками обозначены центры кластеров\n",
    " \n",
    "def cluster_points(X, mu):\n",
    "    clusters  = {}\n",
    "    for x in X:\n",
    "        bestmukey = min([(i[0], np.linalg.norm(x-mu[i[0]])) \\\n",
    "                    for i in enumerate(mu)], key=lambda t:t[1])[0]\n",
    "        try:\n",
    "            clusters[bestmukey].append(x)\n",
    "        except KeyError:\n",
    "            clusters[bestmukey] = [x]\n",
    "    return clusters\n",
    " \n",
    "def reevaluate_centers(mu, clusters):\n",
    "    newmu = []\n",
    "    keys = sorted(clusters.keys())\n",
    "    for k in keys:\n",
    "        newmu.append(np.mean(clusters[k], axis = 0))\n",
    "    return newmu\n",
    " \n",
    "def has_converged(mu, oldmu):\n",
    "    return (set([tuple(b) for b in mu]) == set([tuple(b) for b in oldmu]))\n",
    " \n",
    "def find_centers(X, K):\n",
    "    oldmu = random.sample(X, K)\n",
    "    mu = random.sample(X, K)\n",
    "    while not has_converged(mu, oldmu):\n",
    "        oldmu = mu\n",
    "        \n",
    "        clusters = cluster_points(X, mu)\n",
    "        \n",
    "        mu = reevaluate_centers(oldmu, clusters)\n",
    "    return(mu, clusters)\n",
    "\t\n",
    "#X = np.array([(random.uniform(-1, 1), random.uniform(-1, 1)) for i in range(5)])\n",
    "\n",
    "\n",
    "\n",
    "#plt.plot(X[:, 0], X[:, 1], 'ro')\n",
    "#plt.show()\n",
    "\n",
    "def init_board(N):\n",
    "    X = np.array([(random.uniform(-1, 1), random.uniform(-1, 1)) for i in range(N)])\n",
    "    return X    \n",
    "\n",
    "def init_board_gauss(N, k):\n",
    "    n = float(N)/k\n",
    "    X = []\n",
    "    for i in range(k):\n",
    "        c = (random.uniform(-1, 1), random.uniform(-1, 1))\n",
    "        s = random.uniform(0.05,0.5)\n",
    "        x = []\n",
    "        while len(x) < n:\n",
    "            a, b = np.array([np.random.normal(c[0], s), np.random.normal(c[1], s)])\n",
    "            # Continue drawing points from the distribution in the range [-1,1]\n",
    "            if abs(a) < 1 and abs(b) < 1:\n",
    "                x.append([a,b])\n",
    "        X.extend(x)\n",
    "    X = np.array(X)[:N]\n",
    "    return X\n",
    "\n",
    "\n",
    "# Initialize points\n",
    "n_points = 200\n",
    "n_clusters = 7\n",
    "\n",
    "X = init_board_gauss(n_points, n_clusters)\n",
    "\n",
    "# Cluster points\n",
    "mu, clusters = find_centers(list(X), n_clusters)\n",
    "clusters = cluster_points(X, mu)\n",
    "\n",
    "# Generate random colors\n",
    "def generate_random_color():\n",
    "    r = lambda: random.randint(0,255)\n",
    "    return '#%02X%02X%02X' % (r(),r(),r())\n",
    "\n",
    "# getting center\n",
    "\n",
    "x_centers = []\n",
    "y_centers = []\n",
    "for i in range(len(mu)):\n",
    "    x_centers.append(mu[i][0])\n",
    "    y_centers.append(mu[i][1])\n",
    "# Plot each cluster\n",
    "for i in range(0, n_clusters):\n",
    "    colx = tuple(x[0] for x in clusters[i])\n",
    "    coly = tuple(x[1] for x in clusters[i])\n",
    "    cluster_color = generate_random_color()\n",
    "    plt.scatter(colx,coly, color=cluster_color)\n",
    "plt.plot(x_centers, y_centers, 'ro')\n",
    "plt.show()\n",
    "\n"
   ],
   "metadata": {
    "collapsed": false,
    "pycharm": {
     "name": "#%%\n",
     "is_executing": false
    }
   }
  }
 ],
 "metadata": {
  "language_info": {
   "codemirror_mode": {
    "name": "ipython",
    "version": 2
   },
   "file_extension": ".py",
   "mimetype": "text/x-python",
   "name": "python",
   "nbconvert_exporter": "python",
   "pygments_lexer": "ipython2",
   "version": "2.7.6"
  },
  "kernelspec": {
   "name": "python3",
   "language": "python",
   "display_name": "Python 3"
  },
  "pycharm": {
   "stem_cell": {
    "cell_type": "raw",
    "source": [],
    "metadata": {
     "collapsed": false
    }
   }
  }
 },
 "nbformat": 4,
 "nbformat_minor": 0
}