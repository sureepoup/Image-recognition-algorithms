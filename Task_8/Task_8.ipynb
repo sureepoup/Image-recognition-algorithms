{
 "cells": [
  {
   "cell_type": "markdown",
   "metadata": {
    "collapsed": true,
    "pycharm": {
     "name": "#%% md\n"
    }
   },
   "source": [
    "# Быстрый корреляционный алгоритм"
   ]
  },
  {
   "cell_type": "code",
   "execution_count": 1,
   "outputs": [],
   "source": [
    "import numpy as np\n",
    "import matplotlib.pyplot as plt"
   ],
   "metadata": {
    "collapsed": false,
    "pycharm": {
     "name": "#%%\n",
     "is_executing": false
    }
   }
  },
  {
   "cell_type": "code",
   "execution_count": 2,
   "outputs": [],
   "source": [
    "num_0 = [[0, 1, 1, 1, 0],\n",
    "         [1, 0, 0, 0, 1],\n",
    "         [1, 0, 0, 0, 1],\n",
    "         [1, 0, 0, 0, 1],\n",
    "         [1, 0, 0, 0, 1],\n",
    "         [1, 0, 0, 0, 1],\n",
    "         [1, 0, 0, 0, 1],\n",
    "         [0, 1, 1, 1 ,0]]\n",
    "\n",
    "num_1 = [[0, 0, 1, 0, 0],\n",
    "         [0, 1, 1, 0, 0],\n",
    "         [0, 0, 1, 0, 0],\n",
    "         [0, 0, 1, 0, 0],\n",
    "         [0, 0, 1, 0, 0],\n",
    "         [0, 0, 1, 0, 0],\n",
    "         [0, 0, 1, 0, 0],\n",
    "         [0, 1, 1, 1, 0]]\n",
    "\n",
    "num_2 = [[0, 1, 1, 1, 0],\n",
    "         [1, 0, 0, 0, 1],\n",
    "         [0, 0, 0, 0, 1],\n",
    "         [0, 0, 0, 1, 0],\n",
    "         [0, 0, 1, 0, 0],\n",
    "         [0, 1, 0, 0, 0],\n",
    "         [1, 0, 0, 0, 0],\n",
    "         [1, 1, 1, 1, 1]]\n",
    "\n",
    "num_3 = [[0, 1, 1, 1, 0],\n",
    "         [1, 0, 0, 0, 1],\n",
    "         [0, 0, 0, 0, 1],\n",
    "         [0, 0, 0, 1, 0],\n",
    "         [0, 0, 0, 0, 1], \n",
    "         [0, 0, 0, 0, 1],\n",
    "         [1, 0, 0, 0, 1],\n",
    "         [0, 1, 1, 1, 0]]\n",
    "\n",
    "num_4 = [[1, 0, 0, 0, 1],\n",
    "         [1, 0, 0, 0, 1],\n",
    "         [1, 0, 0, 0, 1],\n",
    "         [1, 1, 1, 1, 1],\n",
    "         [0, 0, 0, 0, 1],\n",
    "         [0, 0, 0, 0, 1],\n",
    "         [0, 0, 0, 0, 1],\n",
    "         [0, 0, 0, 0, 1]]\n",
    "\n",
    "num_5 = [[1, 1, 1, 1, 1],\n",
    "         [1, 0, 0, 0, 0],\n",
    "         [1, 0, 0, 0, 0],\n",
    "         [1, 1, 1, 1, 0],\n",
    "         [0, 0, 0, 0, 1],\n",
    "         [0, 0, 0, 0, 1],\n",
    "         [0, 0, 0, 0, 1],\n",
    "         [1, 1, 1, 1, 0]]\n",
    "\n",
    "num_6 = [[0, 1, 1, 1, 0],\n",
    "         [1, 0, 0, 0, 1],\n",
    "         [1, 0, 0, 0, 0],\n",
    "         [1, 1, 1, 1, 0],\n",
    "         [1, 0, 0, 0, 1],\n",
    "         [1, 0, 0, 0, 1],\n",
    "         [1, 0, 0, 0, 1],\n",
    "         [0, 1, 1, 1, 0]]\n",
    "\n",
    "num_7 = [[1, 1, 1, 1, 1],\n",
    "         [0, 0, 0, 0, 1],\n",
    "         [0, 0, 0, 1, 0],\n",
    "         [0, 0, 1, 0, 0],\n",
    "         [0, 0, 1, 0, 0],\n",
    "         [0, 0, 1, 0, 0],\n",
    "         [0, 0, 1, 0, 0],\n",
    "         [0, 0, 1, 0, 0]]\n",
    "\n",
    "num_8 = [[0, 1, 1, 1, 0],\n",
    "         [1, 0, 0, 0, 1],\n",
    "         [1, 0, 0, 0, 1],\n",
    "         [0, 1, 1, 1, 0],\n",
    "         [1, 0, 0, 0, 1],\n",
    "         [1, 0, 0, 0, 1],\n",
    "         [1, 0, 0, 0, 1],\n",
    "         [0, 1, 1, 1 ,0]]\n",
    "\n",
    "num_9 = [[0, 1, 1, 1, 0],\n",
    "         [1, 0, 0, 0, 1],\n",
    "         [1, 0, 0, 0, 1],\n",
    "         [0, 1, 1, 1, 0],\n",
    "         [0, 0, 0, 0, 1],\n",
    "         [0, 0, 0, 0, 1],\n",
    "         [1, 0, 0, 0, 1],\n",
    "         [0, 1, 1, 1 ,0]]        "
   ],
   "metadata": {
    "collapsed": false,
    "pycharm": {
     "name": "#%%\n",
     "is_executing": false
    }
   }
  },
  {
   "cell_type": "code",
   "execution_count": 17,
   "outputs": [
    {
     "data": {
      "text/plain": "<Figure size 432x288 with 1 Axes>",
      "image/png": "[encoded data removed]"
     },
     "metadata": {
      "needs_background": "light"
     },
     "output_type": "display_data"
    }
   ],
   "source": [
    "templates = [num_0, num_1, num_2, num_3, num_4, num_5, num_6, num_7, num_8, num_9]\n",
    "\n",
    "for element in templates:\n",
    "    plt.imshow(element, cmap='gray')"
   ],
   "metadata": {
    "collapsed": false,
    "pycharm": {
     "name": "#%%\n",
     "is_executing": false
    }
   }
  },
  {
   "cell_type": "code",
   "execution_count": 3,
   "outputs": [],
   "source": [
    "input_num = [[1, 1, 1, 1, 0],\n",
    "             [1, 0, 0, 0, 1],\n",
    "             [0, 0, 0, 0, 1],\n",
    "             [0, 1, 1, 1, 1],\n",
    "             [0, 0, 0, 0, 1],\n",
    "             [0, 0, 0, 0, 1],\n",
    "             [1, 0, 0, 0, 1],\n",
    "             [1, 1, 1, 1, 0]]"
   ],
   "metadata": {
    "collapsed": false,
    "pycharm": {
     "name": "#%%\n",
     "is_executing": false
    }
   }
  },
  {
   "cell_type": "code",
   "execution_count": 18,
   "outputs": [
    {
     "data": {
      "text/plain": "<matplotlib.image.AxesImage at 0x1d5113a5e80>"
     },
     "metadata": {},
     "output_type": "execute_result",
     "execution_count": 18
    },
    {
     "data": {
      "text/plain": "<Figure size 432x288 with 1 Axes>",
      "image/png": "[encoded data removed]"
     },
     "metadata": {
      "needs_background": "light"
     },
     "output_type": "display_data"
    }
   ],
   "source": [
    "plt.imshow(input_num, cmap='gray')"
   ],
   "metadata": {
    "collapsed": false,
    "pycharm": {
     "name": "#%%\n",
     "is_executing": false
    }
   }
  },
  {
   "cell_type": "code",
   "execution_count": 10,
   "outputs": [
    {
     "data": {
      "text/plain": "8"
     },
     "metadata": {},
     "output_type": "execute_result",
     "execution_count": 10
    }
   ],
   "source": [
    "len(input_num)"
   ],
   "metadata": {
    "collapsed": false,
    "pycharm": {
     "name": "#%%\n",
     "is_executing": false
    }
   }
  },
  {
   "cell_type": "code",
   "execution_count": 13,
   "outputs": [
    {
     "data": {
      "text/plain": "5"
     },
     "metadata": {},
     "output_type": "execute_result",
     "execution_count": 13
    }
   ],
   "source": [
    "len(input_num[0])"
   ],
   "metadata": {
    "collapsed": false,
    "pycharm": {
     "name": "#%%\n",
     "is_executing": false
    }
   }
  },
  {
   "cell_type": "code",
   "execution_count": 5,
   "outputs": [
    {
     "name": "stdout",
     "text": [
      "9\n"
     ],
     "output_type": "stream"
    }
   ],
   "source": [
    "# для каждого шаблона считаем число +1 и -1, затем вычисляем их сумму,\n",
    "# деленную на количество едениц в шаблоне\n",
    "# после этого относим входное изображение к шаблону с наибольшей суммой\n",
    "\n",
    "# массив, в котором рассчитывается сумма при сопоставлении входного изображения\n",
    "# и шаблона\n",
    "dif = [0]*10\n",
    "number = [num_0, num_1, num_2, num_3, num_4, num_5, num_6, num_7, num_8, num_9]\n",
    "\n",
    "# цикл по строкам изображения\n",
    "for i in range(len(input_num)):\n",
    "    # цикл по столбцам изображения\n",
    "    for j in range(len(input_num[0])):\n",
    "        # если пиксель вх изображения = 1 и на шаблоне 1:\n",
    "        # прибавляем единицу\n",
    "        # иначе: вычитаем единицу\n",
    "        if (input_num[i][j] == 1):\n",
    "            for n in range(10):\n",
    "                if (number[n][i][j] == 0):\n",
    "                    dif[n] = dif[n] - 1\n",
    "                if (number[n][i][j] == 1):\n",
    "                    dif[n] = dif[n] + 1\n",
    "                    \n",
    "# делим значения суммы на количество едениц в шаблоне\n",
    "for n in range(10):\n",
    "    dif[n] = dif[n] / sum([sum(el) for el in number[n]])\n",
    "        \n",
    "diff = np.array(dif)        \n",
    "print(diff.argmax())        "
   ],
   "metadata": {
    "collapsed": false,
    "pycharm": {
     "name": "#%%\n",
     "is_executing": false
    }
   }
  },
  {
   "cell_type": "code",
   "execution_count": 9,
   "outputs": [
    {
     "data": {
      "text/plain": "19"
     },
     "metadata": {},
     "output_type": "execute_result",
     "execution_count": 9
    }
   ],
   "source": [
    "sum([sum(el) for el in input_num])\n",
    "\n"
   ],
   "metadata": {
    "collapsed": false,
    "pycharm": {
     "name": "#%%\n",
     "is_executing": false
    }
   }
  }
 ],
 "metadata": {
  "language_info": {
   "codemirror_mode": {
    "name": "ipython",
    "version": 2
   },
   "file_extension": ".py",
   "mimetype": "text/x-python",
   "name": "python",
   "nbconvert_exporter": "python",
   "pygments_lexer": "ipython2",
   "version": "2.7.6"
  },
  "kernelspec": {
   "name": "python3",
   "language": "python",
   "display_name": "Python 3"
  },
  "pycharm": {
   "stem_cell": {
    "cell_type": "raw",
    "source": [],
    "metadata": {
     "collapsed": false
    }
   }
  }
 },
 "nbformat": 4,
 "nbformat_minor": 0
}