{
 "cells": [
  {
   "cell_type": "code",
   "execution_count": 2,
   "metadata": {},
   "outputs": [],
   "source": [
    "from PIL import Image\n",
    "import numpy as np\n",
    "import matplotlib.pyplot as plt"
   ]
  },
  {
   "cell_type": "code",
   "execution_count": 2,
   "metadata": {},
   "outputs": [],
   "source": [
    "def encode(image):\n",
    "    \n",
    "    im = Image.open(image)\n",
    "    ar = np.array(im.getdata())\n",
    "    res=[]\n",
    "    a = im.size[0]\n",
    "    region = [1,a-1,a,a+1,-1,-a+1,-a,-a-1]\n",
    "    compl = [-1,1+1j,1j,-1+1j,1,-1-1j,-1j,1-1j]\n",
    "    diction = dict(zip(region,compl))\n",
    "    \n",
    "    def nearest(i,close,ar,region,res):\n",
    "        z=True\n",
    "        for k in close:\n",
    "            if np.all(ar[k] == np.array([0,0,0])) and z==True:\n",
    "                z=False\n",
    "                region1 = [a for a in region if a != i-k]\n",
    "                close = [k + a for a in region1]\n",
    "                res.append(i-k)\n",
    "                nearest(k,close,ar, region,res)\n",
    "                \n",
    "    for i in range(len(ar)):\n",
    "        if ar[i][0]==255 and ar[i][1] == 0:\n",
    "            k=i\n",
    "            close = [i + a for a in region]   \n",
    "    nearest(k,close,ar,region,res)\n",
    "    cont1 = [diction[x] for x in res]\n",
    "    cont1.append(0-sum(cont1))\n",
    "    return(cont1)"
   ]
  },
  {
   "cell_type": "code",
   "execution_count": 3,
   "metadata": {},
   "outputs": [],
   "source": [
    "def decode(cont1):\n",
    "    X = np.cumsum([x.real for x in cont1])\n",
    "    Y = np.cumsum([x.imag for x in cont1])\n",
    "    pixel = [[a+abs(min(X)),b+abs(min(Y))] for (a,b) in zip(X,Y)]\n",
    "    pixelar= np.empty([int(max(X)+abs(min(X))+1), int(max(Y)+abs(min(Y))+1)])\n",
    "    for i in range(len(pixel)):\n",
    "        pixelar[int(pixel[i][0]),int(pixel[i][1])] = 1\n",
    "    image = Image.fromarray(pixelar)\n",
    "    plt.imshow(image)"
   ]
  },
  {
   "cell_type": "code",
   "execution_count": 5,
   "metadata": {},
   "outputs": [],
   "source": [
    "def scalar(cont1,cont2):\n",
    "    return sum([np.vdot(a,b) for (a,b) in zip(cont1,cont2)])"
   ]
  },
  {
   "cell_type": "code",
   "execution_count": 5,
   "metadata": {},
   "outputs": [],
   "source": [
    "def norm(cont1):\n",
    "    return sum([abs(a)**2 for a in cont1])**(1/2)"
   ]
  },
  {
   "cell_type": "code",
   "execution_count": 6,
   "metadata": {},
   "outputs": [],
   "source": [
    "def nsp(cont1,cont2):\n",
    "    return scalar(cont1,cont2)/(norm(cont1)*norm(cont2))"
   ]
  },
  {
   "cell_type": "code",
   "execution_count": 3,
   "metadata": {},
   "outputs": [],
   "source": [
    "def vkf(cont1,cont2):\n",
    "    return [scalar(a,cont2) for a in [cont1[i+1:]+cont1[0:i+1] for i in range(len(cont1))]]"
   ]
  },
  {
   "cell_type": "code",
   "execution_count": 8,
   "metadata": {},
   "outputs": [],
   "source": [
    "def vkfmax(cont1,cont2):\n",
    "    return max([a/(norm(cont1)*norm(cont2)) for a in vkf(cont1,cont2)])"
   ]
  },
  {
   "cell_type": "code",
   "execution_count": 9,
   "metadata": {},
   "outputs": [],
   "source": [
    "def equalise(cont1,cont2):\n",
    "    k = min(len(cont1),len(cont2))\n",
    "    newcont1 = [None] * k\n",
    "    newcont2 = [None] * k\n",
    "    for i in range(k):\n",
    "        newcont1[i] = cont1[i*len(cont1)//k]\n",
    "        newcont2[i] = cont2[i*len(cont2)//k]\n",
    "    return newcont1, newcont2"
   ]
  },
  {
   "cell_type": "code",
   "execution_count": 27,
   "metadata": {},
   "outputs": [],
   "source": [
    "cont1 = encode('contur.png')\n",
    "cont2 = encode('contur1.png')"
   ]
  },
  {
   "cell_type": "code",
   "execution_count": 31,
   "metadata": {},
   "outputs": [],
   "source": [
    "cont1, cont2 = equalise(cont1,cont2)"
   ]
  },
  {
   "cell_type": "code",
   "execution_count": 35,
   "metadata": {},
   "outputs": [
    {
     "data": {
      "image/png": "[encoded data removed]",
      "text/plain": [
       "<Figure size 432x288 with 1 Axes>"
      ]
     },
     "metadata": {
      "needs_background": "light"
     },
     "output_type": "display_data"
    }
   ],
   "source": [
    "decode(cont2)"
   ]
  },
  {
   "cell_type": "code",
   "execution_count": 6,
   "metadata": {},
   "outputs": [
    {
     "data": {
      "text/plain": [
       "[(20+20j), 30j, (-20+20j), (-30+0j), (-20-20j), -30j, (20-20j), (30+0j)]"
      ]
     },
     "execution_count": 6,
     "metadata": {},
     "output_type": "execute_result"
    }
   ],
   "source": [
    "contour1 = [0+2j, 3+2j, 3+0j, 3-2j, 0-2j, -3-2j, -3-0j, -3+2j]\n",
    "contour2 = [0+1j, 1+1j, 1+0j, 1-1j, 0-1j, -1-1j, -1-0j, -1+1j]\n",
    "vkf(contour1,contour2)"
   ]
  }
 ],
 "metadata": {
  "kernelspec": {
   "display_name": "Python 3",
   "language": "python",
   "name": "python3"
  },
  "language_info": {
   "codemirror_mode": {
    "name": "ipython",
    "version": 3
   },
   "file_extension": ".py",
   "mimetype": "text/x-python",
   "name": "python",
   "nbconvert_exporter": "python",
   "pygments_lexer": "ipython3",
   "version": "3.7.3"
  }
 },
 "nbformat": 4,
 "nbformat_minor": 2
}
